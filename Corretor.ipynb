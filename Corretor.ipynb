{
 "cells": [
  {
   "cell_type": "code",
   "execution_count": 1,
   "id": "89a8d7d9",
   "metadata": {},
   "outputs": [],
   "source": [
    "import nltk"
   ]
  },
  {
   "cell_type": "code",
   "execution_count": 2,
   "id": "50adc866",
   "metadata": {},
   "outputs": [],
   "source": [
    "with open(\"corretor-master/artigos.txt\", \"r\", encoding=\"utf-8\") as f:\n",
    "    artigos = f.read()"
   ]
  },
  {
   "cell_type": "code",
   "execution_count": 3,
   "id": "7164dd2e",
   "metadata": {},
   "outputs": [
    {
     "name": "stdout",
     "output_type": "stream",
     "text": [
      "\n",
      "\n",
      "\n",
      "imagem \n",
      "\n",
      "Temos a seguinte classe que representa um usuário no nosso sistema:\n",
      "\n",
      "java\n",
      "\n",
      "Para salvar um novo usuário, várias validações são feitas, como por exemplo: Ver se o nome só contém letras, [**o CPF só números**] e ver se o usuário possui no mínimo 18 anos. Veja o método que faz essa validação:\n",
      "\n",
      "java \n",
      "\n",
      "Suponha agora que eu tenha outra classe, a classe `Produto`, que contém um atributo nome e eu quero fazer a mesma validação que fiz para o nome do usuário: Ver se só contém letras. E aí? Vou\n"
     ]
    }
   ],
   "source": [
    "print(artigos[:500])"
   ]
  },
  {
   "cell_type": "code",
   "execution_count": 4,
   "id": "234f504f",
   "metadata": {},
   "outputs": [
    {
     "data": {
      "text/plain": [
       "2605046"
      ]
     },
     "execution_count": 4,
     "metadata": {},
     "output_type": "execute_result"
    }
   ],
   "source": [
    "len(artigos)"
   ]
  },
  {
   "cell_type": "code",
   "execution_count": 5,
   "id": "efbb4f7b",
   "metadata": {},
   "outputs": [
    {
     "data": {
      "text/plain": [
       "3"
      ]
     },
     "execution_count": 5,
     "metadata": {},
     "output_type": "execute_result"
    }
   ],
   "source": [
    "len(\"ola\")"
   ]
  },
  {
   "cell_type": "code",
   "execution_count": 6,
   "id": "50d7ebb6",
   "metadata": {},
   "outputs": [],
   "source": [
    "texto_exemplo = \"Olá, tudo bem?\"\n",
    "tokens = texto_exemplo.split()"
   ]
  },
  {
   "cell_type": "code",
   "execution_count": 7,
   "id": "7b96f673",
   "metadata": {},
   "outputs": [
    {
     "name": "stdout",
     "output_type": "stream",
     "text": [
      "['Olá,', 'tudo', 'bem?']\n"
     ]
    }
   ],
   "source": [
    "print(tokens)"
   ]
  },
  {
   "cell_type": "code",
   "execution_count": 8,
   "id": "21903cb1",
   "metadata": {},
   "outputs": [],
   "source": [
    "palavras_separadas = nltk.tokenize.word_tokenize(texto_exemplo)"
   ]
  },
  {
   "cell_type": "code",
   "execution_count": 9,
   "id": "d980b726",
   "metadata": {},
   "outputs": [
    {
     "name": "stdout",
     "output_type": "stream",
     "text": [
      "['Olá', ',', 'tudo', 'bem', '?']\n"
     ]
    }
   ],
   "source": [
    "print(palavras_separadas)"
   ]
  },
  {
   "cell_type": "code",
   "execution_count": 10,
   "id": "ec200e88",
   "metadata": {},
   "outputs": [
    {
     "data": {
      "text/plain": [
       "5"
      ]
     },
     "execution_count": 10,
     "metadata": {},
     "output_type": "execute_result"
    }
   ],
   "source": [
    "len(palavras_separadas)"
   ]
  },
  {
   "cell_type": "code",
   "execution_count": 11,
   "id": "497a8e9d",
   "metadata": {},
   "outputs": [],
   "source": [
    "def separa_palavras(lista_tokens):\n",
    "    \n",
    "    lista_palavras = []\n",
    "    \n",
    "    for token in lista_tokens:\n",
    "        if token.isalpha():\n",
    "            lista_palavras.append(token)\n",
    "    \n",
    "    return lista_palavras"
   ]
  },
  {
   "cell_type": "code",
   "execution_count": 12,
   "id": "52739ad8",
   "metadata": {},
   "outputs": [
    {
     "data": {
      "text/plain": [
       "True"
      ]
     },
     "execution_count": 12,
     "metadata": {},
     "output_type": "execute_result"
    }
   ],
   "source": [
    "\"palavra\".isalpha()"
   ]
  },
  {
   "cell_type": "code",
   "execution_count": 13,
   "id": "ed0397fa",
   "metadata": {},
   "outputs": [
    {
     "data": {
      "text/plain": [
       "False"
      ]
     },
     "execution_count": 13,
     "metadata": {},
     "output_type": "execute_result"
    }
   ],
   "source": [
    "\"oi,\".isalpha()"
   ]
  },
  {
   "cell_type": "code",
   "execution_count": 14,
   "id": "17da74a5",
   "metadata": {},
   "outputs": [
    {
     "data": {
      "text/plain": [
       "True"
      ]
     },
     "execution_count": 14,
     "metadata": {},
     "output_type": "execute_result"
    }
   ],
   "source": [
    "\"olá\".isalpha()"
   ]
  },
  {
   "cell_type": "code",
   "execution_count": 15,
   "id": "a2997cec",
   "metadata": {},
   "outputs": [
    {
     "data": {
      "text/plain": [
       "['Olá', 'tudo', 'bem']"
      ]
     },
     "execution_count": 15,
     "metadata": {},
     "output_type": "execute_result"
    }
   ],
   "source": [
    "separa_palavras(palavras_separadas)"
   ]
  },
  {
   "cell_type": "code",
   "execution_count": 16,
   "id": "fad86bd1",
   "metadata": {},
   "outputs": [],
   "source": [
    "lista_tokens = nltk.tokenize.word_tokenize(artigos)\n",
    "lista_palavras = separa_palavras(lista_tokens)"
   ]
  },
  {
   "cell_type": "code",
   "execution_count": 17,
   "id": "cbf5081f",
   "metadata": {},
   "outputs": [
    {
     "name": "stdout",
     "output_type": "stream",
     "text": [
      "O número de palavras é 403104\n"
     ]
    }
   ],
   "source": [
    "print(f\"O número de palavras é {len(lista_palavras)}\")"
   ]
  },
  {
   "cell_type": "code",
   "execution_count": 18,
   "id": "21bb72b0",
   "metadata": {},
   "outputs": [],
   "source": [
    "def normalizacao(lista_palavras):\n",
    "    \n",
    "    lista_normalizada = []\n",
    "    \n",
    "    for palavra in lista_palavras:\n",
    "        lista_normalizada.append(palavra.lower())\n",
    "    \n",
    "    return lista_normalizada"
   ]
  },
  {
   "cell_type": "code",
   "execution_count": 19,
   "id": "1e115a82",
   "metadata": {},
   "outputs": [],
   "source": [
    "lista_normalizada = normalizacao(lista_palavras)"
   ]
  },
  {
   "cell_type": "code",
   "execution_count": 20,
   "id": "02c64d85",
   "metadata": {},
   "outputs": [
    {
     "name": "stdout",
     "output_type": "stream",
     "text": [
      "['imagem', 'Temos', 'a', 'seguinte', 'classe']\n",
      "['imagem', 'temos', 'a', 'seguinte', 'classe']\n"
     ]
    }
   ],
   "source": [
    "print(lista_palavras[:5])\n",
    "print(lista_normalizada[:5])"
   ]
  },
  {
   "cell_type": "code",
   "execution_count": 21,
   "id": "e5fa210e",
   "metadata": {},
   "outputs": [
    {
     "name": "stdout",
     "output_type": "stream",
     "text": [
      "O número de palavras únicas: 18465 \n"
     ]
    }
   ],
   "source": [
    "print(f\"O número de palavras únicas: { len(set(lista_normalizada))} \")"
   ]
  },
  {
   "cell_type": "code",
   "execution_count": 22,
   "id": "f2a12fc3",
   "metadata": {},
   "outputs": [],
   "source": [
    "palavra_exemplo = \"lgica\""
   ]
  },
  {
   "cell_type": "code",
   "execution_count": 23,
   "id": "890fce54",
   "metadata": {},
   "outputs": [
    {
     "data": {
      "text/plain": [
       "('', 'lgica')"
      ]
     },
     "execution_count": 23,
     "metadata": {},
     "output_type": "execute_result"
    }
   ],
   "source": [
    "palavra_exemplo[:0], palavra_exemplo[0:]"
   ]
  },
  {
   "cell_type": "code",
   "execution_count": 24,
   "id": "ffc7747b",
   "metadata": {},
   "outputs": [],
   "source": [
    "def gerador_palavras(palavra):    \n",
    "    fatias = []\n",
    "    \n",
    "    for i in range(len(palavra) + 1):\n",
    "        fatias.append((palavra[:i], palavra[i:]))\n",
    "    \n",
    "    palavras_geradas = insere_letras(fatias)\n",
    "    \n",
    "    return palavras_geradas\n",
    "\n",
    "                      \n",
    "def insere_letras(fatias):\n",
    "    \n",
    "    novas_palavras = []\n",
    "    letras = 'abcdefghijklmnopqrstuvwxyzàáâãèéêìíîòóôõùúûç'\n",
    "    \n",
    "    for E, D in fatias:\n",
    "        for letra in letras:\n",
    "            novas_palavras.append(E + letra + D)\n",
    "    \n",
    "    return novas_palavras"
   ]
  },
  {
   "cell_type": "code",
   "execution_count": 25,
   "id": "eb0d77c6",
   "metadata": {},
   "outputs": [],
   "source": [
    "def corretor(palavra):\n",
    "    palavras_geradas = gerador_palavras(palavra)\n",
    "    \n",
    "    palavra_correta = max(palavras_geradas, key=probabilidade)\n",
    "    \n",
    "    return palavra_correta"
   ]
  },
  {
   "cell_type": "code",
   "execution_count": 26,
   "id": "acc148c5",
   "metadata": {},
   "outputs": [],
   "source": [
    "frequencia = nltk.FreqDist(lista_normalizada)"
   ]
  },
  {
   "cell_type": "code",
   "execution_count": 27,
   "id": "f9056371",
   "metadata": {},
   "outputs": [
    {
     "data": {
      "text/plain": [
       "[('de', 15502),\n",
       " ('o', 14056),\n",
       " ('que', 12230),\n",
       " ('a', 11099),\n",
       " ('e', 10501),\n",
       " ('para', 7710),\n",
       " ('um', 6368),\n",
       " ('é', 5899),\n",
       " ('uma', 5220),\n",
       " ('do', 5124)]"
      ]
     },
     "execution_count": 27,
     "metadata": {},
     "output_type": "execute_result"
    }
   ],
   "source": [
    "frequencia.most_common(10)"
   ]
  },
  {
   "cell_type": "code",
   "execution_count": 28,
   "id": "ea7a0daf",
   "metadata": {},
   "outputs": [
    {
     "data": {
      "text/plain": [
       "96"
      ]
     },
     "execution_count": 28,
     "metadata": {},
     "output_type": "execute_result"
    }
   ],
   "source": [
    "frequencia[\"lógica\"]"
   ]
  },
  {
   "cell_type": "code",
   "execution_count": 29,
   "id": "1cf1053d",
   "metadata": {},
   "outputs": [
    {
     "data": {
      "text/plain": [
       "0"
      ]
     },
     "execution_count": 29,
     "metadata": {},
     "output_type": "execute_result"
    }
   ],
   "source": [
    "frequencia[\"logica\"]"
   ]
  },
  {
   "cell_type": "code",
   "execution_count": 30,
   "id": "e2f06d95",
   "metadata": {},
   "outputs": [],
   "source": [
    "total_palavras = len(lista_normalizada)"
   ]
  },
  {
   "cell_type": "code",
   "execution_count": 31,
   "id": "d7eedaa1",
   "metadata": {},
   "outputs": [],
   "source": [
    "def probabilidade(palavra_gerada):\n",
    "    return frequencia[palavra_gerada]/total_palavras"
   ]
  },
  {
   "cell_type": "code",
   "execution_count": 32,
   "id": "4bb5a9d6",
   "metadata": {},
   "outputs": [
    {
     "data": {
      "text/plain": [
       "(0.00023815194093831864, 0.0, 0.0)"
      ]
     },
     "execution_count": 32,
     "metadata": {},
     "output_type": "execute_result"
    }
   ],
   "source": [
    "probabilidade(\"lógica\"), probabilidade(\"lagica\"), probabilidade(\"logica\")"
   ]
  },
  {
   "cell_type": "code",
   "execution_count": 33,
   "id": "142ee054",
   "metadata": {},
   "outputs": [
    {
     "data": {
      "text/plain": [
       "'lógica'"
      ]
     },
     "execution_count": 33,
     "metadata": {},
     "output_type": "execute_result"
    }
   ],
   "source": [
    "corretor(palavra_exemplo)"
   ]
  },
  {
   "cell_type": "code",
   "execution_count": 34,
   "id": "737fa46e",
   "metadata": {},
   "outputs": [],
   "source": [
    "def cria_dados_teste(nome_arquivo):\n",
    "    lista_palavras_teste = []\n",
    "    with open(nome_arquivo, \"r\", encoding=\"utf-8\") as f:\n",
    "        linhas = f.readlines()\n",
    "        for linha in linhas:\n",
    "            correta, errada = linha.split()\n",
    "            lista_palavras_teste.append((correta, errada))\n",
    "    \n",
    "    return lista_palavras_teste"
   ]
  },
  {
   "cell_type": "code",
   "execution_count": 35,
   "id": "79dab2eb",
   "metadata": {},
   "outputs": [],
   "source": [
    "lista_teste = cria_dados_teste(\"corretor-master/palavras.txt\")"
   ]
  },
  {
   "cell_type": "code",
   "execution_count": 36,
   "id": "de38f8cc",
   "metadata": {},
   "outputs": [],
   "source": [
    "def avaliador(testes):\n",
    "    total_palavras = len(testes)\n",
    "    acertos = 0\n",
    "    \n",
    "    for correta, errada in testes:\n",
    "        palavra_corigida = corretor(errada)\n",
    "        if palavra_corigida == correta:\n",
    "            acertos += 1\n",
    "    \n",
    "    taxa_acerto = round(acertos*100 / total_palavras, 2)\n",
    "    print(f\"{taxa_acerto}% de {total_palavras} palavras\")"
   ]
  },
  {
   "cell_type": "code",
   "execution_count": 37,
   "id": "29243ff4",
   "metadata": {},
   "outputs": [
    {
     "name": "stdout",
     "output_type": "stream",
     "text": [
      "1.08% de 186 palavras\n"
     ]
    }
   ],
   "source": [
    "avaliador(lista_teste)"
   ]
  },
  {
   "cell_type": "code",
   "execution_count": 38,
   "id": "260f264a",
   "metadata": {},
   "outputs": [],
   "source": [
    "def deletando_caracteres(fatias):\n",
    "    novas_palavras = []\n",
    "    \n",
    "    for E, D in fatias:\n",
    "        novas_palavras.append(E + D[1:])\n",
    "    \n",
    "    return novas_palavras"
   ]
  },
  {
   "cell_type": "code",
   "execution_count": 39,
   "id": "554028ab",
   "metadata": {},
   "outputs": [],
   "source": [
    "def gerador_palavras(palavra):    \n",
    "    fatias = []\n",
    "    \n",
    "    for i in range(len(palavra) + 1):\n",
    "        fatias.append((palavra[:i], palavra[i:]))\n",
    "    \n",
    "    palavras_geradas = insere_letras(fatias)\n",
    "    palavras_geradas += deletando_caracteres(fatias)\n",
    "    \n",
    "    return palavras_geradas"
   ]
  },
  {
   "cell_type": "code",
   "execution_count": 40,
   "id": "dac97503",
   "metadata": {},
   "outputs": [
    {
     "data": {
      "text/plain": [
       "'lógica'"
      ]
     },
     "execution_count": 40,
     "metadata": {},
     "output_type": "execute_result"
    }
   ],
   "source": [
    "palavra_exemplo = \"lóigica\"\n",
    "corretor(palavra_exemplo)"
   ]
  },
  {
   "cell_type": "code",
   "execution_count": 41,
   "id": "8b4ff74f",
   "metadata": {},
   "outputs": [
    {
     "name": "stdout",
     "output_type": "stream",
     "text": [
      "41.4% de 186 palavras\n"
     ]
    }
   ],
   "source": [
    "avaliador(lista_teste)"
   ]
  },
  {
   "cell_type": "code",
   "execution_count": 42,
   "id": "80c985cf",
   "metadata": {},
   "outputs": [],
   "source": [
    "def troca_letras(fatias):\n",
    "    \n",
    "    novas_palavras = []\n",
    "    letras = 'abcdefghijklmnopqrstuvwxyzàáâãèéêìíîòóôõùúûç'\n",
    "    \n",
    "    for E, D in fatias:\n",
    "        for letra in letras:\n",
    "            novas_palavras.append(E + letra + D[1:])\n",
    "    \n",
    "    return novas_palavras"
   ]
  },
  {
   "cell_type": "code",
   "execution_count": 43,
   "id": "4c010563",
   "metadata": {},
   "outputs": [],
   "source": [
    "def gerador_palavras(palavra):    \n",
    "    fatias = []\n",
    "    \n",
    "    for i in range(len(palavra) + 1):\n",
    "        fatias.append((palavra[:i], palavra[i:]))\n",
    "    \n",
    "    palavras_geradas = insere_letras(fatias)\n",
    "    palavras_geradas += deletando_caracteres(fatias)\n",
    "    palavras_geradas += troca_letras(fatias)\n",
    "    \n",
    "    return palavras_geradas"
   ]
  },
  {
   "cell_type": "code",
   "execution_count": 44,
   "id": "d9c8e48e",
   "metadata": {},
   "outputs": [
    {
     "name": "stdout",
     "output_type": "stream",
     "text": [
      "76.34% de 186 palavras\n"
     ]
    }
   ],
   "source": [
    "avaliador(lista_teste)"
   ]
  },
  {
   "cell_type": "code",
   "execution_count": 45,
   "id": "fb6b9bcb",
   "metadata": {},
   "outputs": [],
   "source": [
    "def inverte_letras(fatias):\n",
    "    novas_palavras = []\n",
    "    \n",
    "    for E, D in fatias:\n",
    "        if len(D) > 1:\n",
    "            novas_palavras.append(E + D[1] + D[0] + D[2:])\n",
    "    \n",
    "    return novas_palavras"
   ]
  },
  {
   "cell_type": "code",
   "execution_count": 46,
   "id": "edf94f20",
   "metadata": {},
   "outputs": [],
   "source": [
    "def gerador_palavras(palavra):    \n",
    "    fatias = []\n",
    "    \n",
    "    for i in range(len(palavra) + 1):\n",
    "        fatias.append((palavra[:i], palavra[i:]))\n",
    "    \n",
    "    palavras_geradas = insere_letras(fatias)\n",
    "    palavras_geradas += deletando_caracteres(fatias)\n",
    "    palavras_geradas += troca_letras(fatias)\n",
    "    palavras_geradas += inverte_letras(fatias)\n",
    "    \n",
    "    return palavras_geradas"
   ]
  },
  {
   "cell_type": "code",
   "execution_count": 47,
   "id": "d35b042d",
   "metadata": {},
   "outputs": [
    {
     "name": "stdout",
     "output_type": "stream",
     "text": [
      "76.34% de 186 palavras\n"
     ]
    }
   ],
   "source": [
    "avaliador(lista_teste)"
   ]
  },
  {
   "cell_type": "code",
   "execution_count": 54,
   "id": "c8d0b191",
   "metadata": {},
   "outputs": [
    {
     "data": {
      "text/plain": [
       "'lógica'"
      ]
     },
     "execution_count": 54,
     "metadata": {},
     "output_type": "execute_result"
    }
   ],
   "source": [
    "corretor(\"lógicaI\")"
   ]
  },
  {
   "cell_type": "code",
   "execution_count": 55,
   "id": "25720c10",
   "metadata": {},
   "outputs": [],
   "source": [
    "def avaliador(testes, vocabulario):\n",
    "    total_palavras = len(testes)\n",
    "    acertos = 0\n",
    "    desconhecida = 0\n",
    "    for correta, errada in testes:\n",
    "        palavra_corigida = corretor(errada)\n",
    "        if palavra_corigida == correta:\n",
    "            acertos += 1\n",
    "        else:\n",
    "            desconhecida += (correta not in vocabulario)\n",
    "    \n",
    "    taxa_acerto = round(acertos*100 / total_palavras, 2)\n",
    "    taxa_desconhecida = round(desconhecida*100 / total_palavras, 2)\n",
    "    print(f\"{taxa_acerto}% de {total_palavras} palavras, desconhecida é {taxa_desconhecida}\")"
   ]
  },
  {
   "cell_type": "code",
   "execution_count": 57,
   "id": "4aa0c649",
   "metadata": {},
   "outputs": [
    {
     "name": "stdout",
     "output_type": "stream",
     "text": [
      "76.34% de 186 palavras, desconhecida é 6.99\n"
     ]
    }
   ],
   "source": [
    "vocabulario = set(lista_normalizada) \n",
    "avaliador(lista_teste, vocabulario)"
   ]
  },
  {
   "cell_type": "code",
   "execution_count": 59,
   "id": "b5a358f1",
   "metadata": {},
   "outputs": [],
   "source": [
    "def gerador_turbinado(palavras_geradas):\n",
    "    novas_palavras = []\n",
    "    \n",
    "    for palavra in palavras_geradas:\n",
    "        novas_palavras += gerador_palavras(palavra)\n",
    "        \n",
    "    return novas_palavras"
   ]
  },
  {
   "cell_type": "code",
   "execution_count": 61,
   "id": "37cce066",
   "metadata": {},
   "outputs": [
    {
     "data": {
      "text/plain": [
       "True"
      ]
     },
     "execution_count": 61,
     "metadata": {},
     "output_type": "execute_result"
    }
   ],
   "source": [
    "palavra = \"lóiigica\"\n",
    "\n",
    "palavras_g = gerador_turbinado(gerador_palavras(palavra))\n",
    "\"lógica\" in palavras_g"
   ]
  },
  {
   "cell_type": "code",
   "execution_count": 62,
   "id": "7749c134",
   "metadata": {},
   "outputs": [
    {
     "data": {
      "text/plain": [
       "691744"
      ]
     },
     "execution_count": 62,
     "metadata": {},
     "output_type": "execute_result"
    }
   ],
   "source": [
    "len(palavras_g)"
   ]
  },
  {
   "cell_type": "code",
   "execution_count": 70,
   "id": "56741f92",
   "metadata": {},
   "outputs": [],
   "source": [
    "def novo_corretor(palavra):\n",
    "    palavras_geradas = gerador_palavras(palavra)\n",
    "    palavras_turbinado = gerador_turbinado(palavras_geradas)\n",
    "    \n",
    "    todas_palavras = set(palavras_geradas + palavras_turbinado)\n",
    "    candidatos = [palavra]\n",
    "    for palavra in todas_palavras:\n",
    "        if palavra in vocabulario:\n",
    "            candidatos.append(palavra)\n",
    "    palavra_correta = max(candidatos, key=probabilidade)\n",
    "    \n",
    "    return palavra_correta"
   ]
  },
  {
   "cell_type": "code",
   "execution_count": 71,
   "id": "bb5b9905",
   "metadata": {},
   "outputs": [
    {
     "data": {
      "text/plain": [
       "'lógica'"
      ]
     },
     "execution_count": 71,
     "metadata": {},
     "output_type": "execute_result"
    }
   ],
   "source": [
    "novo_corretor(palavra)"
   ]
  },
  {
   "cell_type": "code",
   "execution_count": 77,
   "id": "461513cb",
   "metadata": {},
   "outputs": [],
   "source": [
    "def avaliador(testes, vocabulario):\n",
    "    total_palavras = len(testes)\n",
    "    acertos = 0\n",
    "    desconhecida = 0\n",
    "    for correta, errada in testes:\n",
    "        palavra_corigida = novo_corretor(errada)\n",
    "        desconhecida += (correta not in vocabulario)\n",
    "        if palavra_corigida == correta:\n",
    "            acertos += 1\n",
    "        else:\n",
    "            print(errada + \"---\" + corretor(errada) + \"---\" + novo_corretor(errada))\n",
    "        \n",
    "    taxa_acerto = round(acertos*100 / total_palavras, 2)\n",
    "    taxa_desconhecida = round(desconhecida*100 / total_palavras, 2)\n",
    "    print(f\"{taxa_acerto}% de {total_palavras} palavras, desconhecida é {taxa_desconhecida}\")"
   ]
  },
  {
   "cell_type": "code",
   "execution_count": 78,
   "id": "b706354d",
   "metadata": {},
   "outputs": [
    {
     "name": "stdout",
     "output_type": "stream",
     "text": [
      "esje---esse---se\n",
      "sãêo---são---não\n",
      "dosa---dos---do\n",
      "eme---em---de\n",
      "eàssa---essa---esse\n",
      "daõs---das---da\n",
      "céda---cada---da\n",
      "noâ---no---o\n",
      "enêão---então---não\n",
      "tĩem---tem---em\n",
      "nossah---nossa---nosso\n",
      "teb---tem---de\n",
      "atĩ---até---a\n",
      "âem---em---de\n",
      "foo---foi---o\n",
      "serr---ser---se\n",
      "entke---entre---então\n",
      "van---vai---a\n",
      "çeus---seus---seu\n",
      "eû---e---de\n",
      "temeo---tempo---temos\n",
      "semre---sempre---ser\n",
      "elaá---ela---ele\n",
      "síó---só---se\n",
      "siàe---site---se\n",
      "seém---sem---em\n",
      "peln---pelo---ele\n",
      "aléra---alura---agora\n",
      "tdia---dia---da\n",
      "tuúo---tudo---tipo\n",
      "jé---é---de\n",
      "sãô---são---não\n",
      "odos---dos---do\n",
      "siua---sua---seu\n",
      "elpe---ele---esse\n",
      "teos---temos---os\n",
      "eũsa---essa---esse\n",
      "vjmos---vamos---temos\n",
      "dms---dos---de\n",
      "cava---java---para\n",
      "ános---nos---no\n",
      "èaso---caso---as\n",
      "túem---tem---em\n",
      "daáos---dados---dos\n",
      "nossk---nosso---nosso\n",
      "tãer---ter---ser\n",
      "vté---até---é\n",
      "búm---bem---um\n",
      "sçerá---será---ser\n",
      "entró---entre---então\n",
      "uai---vai---a\n",
      "sâus---seus---seu\n",
      "ìeu---seu---de\n",
      "fual---qual---sua\n",
      "elal---ela---ele\n",
      "skó---só---se\n",
      "secm---sem---em\n",
      "aluéa---alura---além\n",
      "dil---dia---de\n",
      "sód---só---se\n",
      "eúaa---aeúaa---essa\n",
      "ró---só---de\n",
      "dĩaz---adĩaz---da\n",
      "correptor---corretor---correto\n",
      "trtica---tática---prática\n",
      "ewpoderamento---aewpoderamento---ewpoderamento\n",
      "îgato---gato---fato\n",
      "cakvalo---acakvalo---carvalho\n",
      "canelac---acanelac---janela\n",
      "tênisy---atênisy---tênisy\n",
      "anciosa---aanciosa---ansioso\n",
      "ancciosa---aancciosa---ancciosa\n",
      "ansioa---aansioa---antiga\n",
      "asterístico---aasterístico---asterístico\n",
      "entertido---aentertido---entendido\n",
      "ritimo---ritmo---ótimo\n",
      "indiota---aindiota---indica\n",
      "tomare---tomar---tomar\n",
      "seje---seja---se\n",
      "provalecer---aprovalecer---prevalece\n",
      "esteje---esteja---este\n",
      "mindigo---amindigo---indico\n",
      "pertubar---apertubar---derrubar\n",
      "55.38% de 186 palavras, desconhecida é 6.99\n"
     ]
    }
   ],
   "source": [
    "vocabulario = set(lista_normalizada) \n",
    "avaliador(lista_teste, vocabulario)"
   ]
  },
  {
   "cell_type": "code",
   "execution_count": 80,
   "id": "798b4019",
   "metadata": {},
   "outputs": [],
   "source": [
    "def avaliador(testes, vocabulario):\n",
    "    total_palavras = len(testes)\n",
    "    acertos = 0\n",
    "    desconhecida = 0\n",
    "    for correta, errada in testes:\n",
    "        palavra_corigida = corretor(errada)\n",
    "        desconhecida += (correta not in vocabulario)\n",
    "        if palavra_corigida == correta:\n",
    "            acertos += 1\n",
    "        else:\n",
    "            print(errada + \"---\" + corretor(errada) + \"---\" + novo_corretor(errada))\n",
    "        \n",
    "    taxa_acerto = round(acertos*100 / total_palavras, 2)\n",
    "    taxa_desconhecida = round(desconhecida*100 / total_palavras, 2)\n",
    "    print(f\"{taxa_acerto}% de {total_palavras} palavras, desconhecida é {taxa_desconhecida}\")"
   ]
  },
  {
   "cell_type": "code",
   "execution_count": 81,
   "id": "a02ca75b",
   "metadata": {},
   "outputs": [
    {
     "name": "stdout",
     "output_type": "stream",
     "text": [
      "eme---em---de\n",
      "noâ---no---o\n",
      "teb---tem---de\n",
      "âem---em---de\n",
      "serr---ser---se\n",
      "eû---e---de\n",
      "jé---é---de\n",
      "dms---dos---de\n",
      "cava---java---para\n",
      "nossk---nosso---nosso\n",
      "ìeu---seu---de\n",
      "qelay---delay---ela\n",
      "dtilizacr---adtilizacr---utilizar\n",
      "bprojõto---abprojõto---projeto\n",
      "ysiteo---aysiteo---site\n",
      "sõêm---asõêm---sem\n",
      "peàli---apeàli---pelo\n",
      "asuraó---aasuraó---alura\n",
      "deiìa---deixa---dia\n",
      "tuĩdoì---atuĩdoì---tudo\n",
      "eúaa---aeúaa---essa\n",
      "utilizẽaçr---autilizẽaçr---utilizar\n",
      "prêjetó---aprêjetó---projeto\n",
      "sqiqte---asqiqte---site\n",
      "sũexm---asũexm---sem\n",
      "pçlxo---apçlxo---pelo\n",
      "uluraa---auluraa---alura\n",
      "dĩaz---adĩaz---da\n",
      "kzudo---akzudo---tudo\n",
      "ewpoderamento---aewpoderamento---ewpoderamento\n",
      "cakvalo---acakvalo---carvalho\n",
      "canelac---acanelac---janela\n",
      "tênisy---atênisy---tênisy\n",
      "anciosa---aanciosa---ansioso\n",
      "ancciosa---aancciosa---ancciosa\n",
      "ansioa---aansioa---antiga\n",
      "empoderamento---aempoderamento---empoderamento\n",
      "asterístico---aasterístico---asterístico\n",
      "entertido---aentertido---entendido\n",
      "indiota---aindiota---indica\n",
      "tomare---tomar---tomar\n",
      "provalecer---aprovalecer---prevalece\n",
      "mindigo---amindigo---indico\n",
      "pertubar---apertubar---derrubar\n",
      "76.34% de 186 palavras, desconhecida é 6.99\n"
     ]
    }
   ],
   "source": [
    "vocabulario = set(lista_normalizada) \n",
    "avaliador(lista_teste, vocabulario)"
   ]
  },
  {
   "cell_type": "code",
   "execution_count": null,
   "id": "df5709b4",
   "metadata": {},
   "outputs": [],
   "source": []
  }
 ],
 "metadata": {
  "kernelspec": {
   "display_name": "Python 3",
   "language": "python",
   "name": "python3"
  },
  "language_info": {
   "codemirror_mode": {
    "name": "ipython",
    "version": 3
   },
   "file_extension": ".py",
   "mimetype": "text/x-python",
   "name": "python",
   "nbconvert_exporter": "python",
   "pygments_lexer": "ipython3",
   "version": "3.8.10"
  }
 },
 "nbformat": 4,
 "nbformat_minor": 5
}
